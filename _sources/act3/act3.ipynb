{
 "cells": [
  {
   "cell_type": "markdown",
   "metadata": {},
   "source": [
    "# Relational\n",
    "\n",
    "<iframe \n",
    "    src=\"https://www.youtube.com/embed/NZ105XlGPus\" \n",
    "    width=\"560\" \n",
    "    height=\"315\" \n",
    "    frameborder=\"0\" \n",
    "    allow=\"accelerometer; autoplay; clipboard-write; encrypted-media; gyroscope; picture-in-picture\" \n",
    "    allowfullscreen \n",
    "    title=\"YouTube video player\">\n",
    "</iframe>\n",
    "\n",
    "```{figure} ../figures/blanche.*\n",
    "---\n",
    "width: 1\n",
    "height: 1\n",
    "---\n",
    "_Everything is in Here: Embodiment, Tokenization, Transformation._ Karl Marx identified Tokenization—the reduction of humanity to mere cogs in the machinery of capital—as the critical fault line that obstructs the evolutionary path from animal (transformation), through man (tokenization), to Übermensch (embodiment). True embodiment, however, must be achieved without reliance on exogenous substances. As an opponent of [vegetarianism](https://www.gutenberg.org/files/52190/52190-h/52190-h.htm)—a practice I once embraced, only to be returned to meat by Wagner’s influence—I advise all spiritual natures to abstain absolutely from alcohol. Water fulfills the purpose, offering purity untainted by the intoxication that clouds judgment. My predilection lies with places where running brooks abound—Nice, Turin, Sils—where one can partake of this clarity. _In vino veritas?_ Once again, I diverge from the world’s understanding of “truth”; for me, it is spirit that moves on the face of the waters, not wine.\n",
    "```\n",
    "\n"
   ]
  }
 ],
 "metadata": {
  "kernelspec": {
   "display_name": "myenv",
   "language": "python",
   "name": "python3"
  },
  "language_info": {
   "codemirror_mode": {
    "name": "ipython",
    "version": 3
   },
   "file_extension": ".py",
   "mimetype": "text/x-python",
   "name": "python",
   "nbconvert_exporter": "python",
   "pygments_lexer": "ipython3",
   "version": "3.12.4"
  },
  "widgets": {
   "application/vnd.jupyter.widget-state+json": {
    "state": {},
    "version_major": 2,
    "version_minor": 0
   }
  }
 },
 "nbformat": 4,
 "nbformat_minor": 4
}
