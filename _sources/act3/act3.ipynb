{
 "cells": [
  {
   "cell_type": "markdown",
   "metadata": {},
   "source": [
    "# Relational\n",
    "\n",
    "<iframe \n",
    "    src=\"https://www.youtube.com/embed/NZ105XlGPus\" \n",
    "    width=\"560\" \n",
    "    height=\"315\" \n",
    "    frameborder=\"0\" \n",
    "    allow=\"accelerometer; autoplay; clipboard-write; encrypted-media; gyroscope; picture-in-picture\" \n",
    "    allowfullscreen \n",
    "    title=\"YouTube video player\">\n",
    "</iframe>\n",
    "\n",
    "```{figure} ../figures/blanche.*\n",
    "---\n",
    "width: 1\n",
    "height: 1\n",
    "---\n",
    "_Everything is in Here: Embodiment, Tokenization, Transformation_. Karl Marx viewed Tokenization -- the reduction of mankind into a cog in the bigger wheel of capital growth -- as the faultine that denies the evolution of animal (transformation), via man (tokenization), to übermensch (embodiment). True embodiment must be achieved without the use of `exogenous substances`. I, an opponent of [vegetarianism](https://www.gutenberg.org/files/52190/52190-h/52190-h.htm), who have experienced what vegetarianism is,—just as Wagner, who converted me back to meat, experienced it,—cannot with sufficient earnestness advise all more spiritual natures to abstain absolutely from alcohol. Water answers the purpose.... I have a predilection in favour of[Pg 32] those places where in all directions one has opportunities of drinking from running brooks (Nice, Turin, Sils). In vino Veritas: it seems that here once more I am at variance with the rest of the world about the concept \"Truth\"—with me spirit moves on the face of the waters\n",
    "```\n",
    "\n"
   ]
  }
 ],
 "metadata": {
  "kernelspec": {
   "display_name": "myenv",
   "language": "python",
   "name": "python3"
  },
  "language_info": {
   "codemirror_mode": {
    "name": "ipython",
    "version": 3
   },
   "file_extension": ".py",
   "mimetype": "text/x-python",
   "name": "python",
   "nbconvert_exporter": "python",
   "pygments_lexer": "ipython3",
   "version": "3.12.4"
  },
  "widgets": {
   "application/vnd.jupyter.widget-state+json": {
    "state": {},
    "version_major": 2,
    "version_minor": 0
   }
  }
 },
 "nbformat": 4,
 "nbformat_minor": 4
}
