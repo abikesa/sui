{
 "cells": [
  {
   "cell_type": "markdown",
   "metadata": {},
   "source": [
    "(structure)=\n",
    "# Games\n",
    "\n",
    "\n"
   ]
  },
  {
   "cell_type": "markdown",
   "metadata": {},
   "source": [
    "<iframe src=\"https://www.youtube.com/embed/xvZqHgFz51I\" style=\"width:80%;height:500px\"></iframe>\n",
    "\n",
    "```{figure} ../figures/blanche.*\n",
    "---\n",
    "width: 1\n",
    "height: 1\n",
    "---\n",
    "_Future's_ *Mask Off* resonates profoundly with audiences far beyond its 2017 release, a testament to its cultural `prescience`. The track, with its hypnotic flute loop and hauntingly repetitive refrain—\"mask on, fuck it, mask off\"—captured a sense of rebellion and authenticity that took on eerie new dimensions during the 2020 COVID-19 pandemic. While the song’s original context centers on shedding metaphorical masks and embracing one's raw, unfiltered self, it became inadvertently prophetic during a time of literal mask mandates and global upheaval. The imagery of upheaval in the music video—its chaotic urban landscapes and themes of defiance—found a grim parallel in the racial justice protests that erupted in cities like Minneapolis following George Floyd's death. Future’s portrayal of hedonism, survival, and unyielding loyalty to one's 'set' struck chords with viewers navigating a world fractured by systemic inequality and a public health crisis. *Mask Off* became an anthem of resistance, misinterpreted or not, for a year marked by existential and societal reckoning, earning its nearly mythic status in the collective consciousness.\n",
    "```"
   ]
  }
 ],
 "metadata": {
  "kernelspec": {
   "display_name": "myenv",
   "language": "python",
   "name": "python3"
  },
  "language_info": {
   "codemirror_mode": {
    "name": "ipython",
    "version": 3
   },
   "file_extension": ".py",
   "mimetype": "text/x-python",
   "name": "python",
   "nbconvert_exporter": "python",
   "pygments_lexer": "ipython3",
   "version": "3.12.4"
  },
  "widgets": {
   "application/vnd.jupyter.widget-state+json": {
    "state": {},
    "version_major": 2,
    "version_minor": 0
   }
  }
 },
 "nbformat": 4,
 "nbformat_minor": 4
}
