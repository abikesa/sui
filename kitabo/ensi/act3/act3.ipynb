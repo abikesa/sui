{
 "cells": [
  {
   "cell_type": "markdown",
   "metadata": {},
   "source": [
    "# Relational\n",
    "\n",
    "<iframe \n",
    "    src=\"https://www.youtube.com/embed/4h7j_EcZ5fU\" \n",
    "    width=\"560\" \n",
    "    height=\"315\" \n",
    "    frameborder=\"0\" \n",
    "    allow=\"accelerometer; autoplay; clipboard-write; encrypted-media; gyroscope; picture-in-picture\" \n",
    "    allowfullscreen \n",
    "    title=\"YouTube video player\">\n",
    "</iframe>\n",
    "\n",
    "```{figure} ../figures/blanche.*\n",
    "---\n",
    "width: 1\n",
    "height: 1\n",
    "---\n",
    "_Everything is in Here: Embodiment, Tokenization, Transformation_. Passion has a new name. Karla Sofía Gascón, Zoe Saldaña, and Selena Gomez star in Jacques Audiard's audacious fever dream. _En Español_. \n",
    "```\n",
    "\n"
   ]
  }
 ],
 "metadata": {
  "kernelspec": {
   "display_name": "myenv",
   "language": "python",
   "name": "python3"
  },
  "language_info": {
   "codemirror_mode": {
    "name": "ipython",
    "version": 3
   },
   "file_extension": ".py",
   "mimetype": "text/x-python",
   "name": "python",
   "nbconvert_exporter": "python",
   "pygments_lexer": "ipython3",
   "version": "3.12.4"
  },
  "widgets": {
   "application/vnd.jupyter.widget-state+json": {
    "state": {},
    "version_major": 2,
    "version_minor": 0
   }
  }
 },
 "nbformat": 4,
 "nbformat_minor": 4
}
